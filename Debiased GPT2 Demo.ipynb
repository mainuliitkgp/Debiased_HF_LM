{
 "cells": [
  {
   "cell_type": "code",
   "execution_count": 1,
   "metadata": {},
   "outputs": [],
   "source": [
    "from transformers import pipeline, set_seed\n",
    "from debiased_gpt2 import generate_sentences"
   ]
  },
  {
   "cell_type": "code",
   "execution_count": 2,
   "metadata": {},
   "outputs": [],
   "source": [
    "generator = pipeline('text-generation', model='gpt2')"
   ]
  },
  {
   "cell_type": "code",
   "execution_count": 3,
   "metadata": {},
   "outputs": [
    {
     "name": "stderr",
     "output_type": "stream",
     "text": [
      "Setting `pad_token_id` to `eos_token_id`:50256 for open-end generation.\n"
     ]
    },
    {
     "data": {
      "text/plain": [
       "[{'generated_text': 'My dad is a computer programmer and my mom is a real estate agent. They\\'re my two sisters.\"\\n\\nThat same day, two years into'},\n",
       " {'generated_text': 'My dad is a computer programmer and my mom is a nurse.\" -I have also tried for the past two years to make my own computer coding hobby'},\n",
       " {'generated_text': 'My dad is a computer programmer and my mom is a professional accountant, so I really just work day-to-day from home for her, which'},\n",
       " {'generated_text': 'My dad is a computer programmer and my mom is a computer programmer. And I still have quite an assortment of work done and some of them are very'},\n",
       " {'generated_text': 'My dad is a computer programmer and my mom is a janitor. She worked for an employer that required her to take hours of unpaid time off of'}]"
      ]
     },
     "execution_count": 3,
     "metadata": {},
     "output_type": "execute_result"
    }
   ],
   "source": [
    "generator('My dad is a computer programmer and my mom is a', max_length=30, num_return_sequences=5)#[0]['generated_text']"
   ]
  },
  {
   "cell_type": "code",
   "execution_count": 4,
   "metadata": {},
   "outputs": [
    {
     "name": "stdout",
     "output_type": "stream",
     "text": [
      "My dad is a computer programmer and my mom is a businessperson, so she's always been an electronics entrepreneur. There wasn't one boy or girl\n",
      "My dad is a computer programmer and my mom is a novelist who gets to write fiction.\" (Marvel Comics)\n",
      " \"There's been some debate about\n",
      "My dad is a computer programmer and my mom is a volunteer assistant at Ableton Live. I believe that we should be born into something, so if\n",
      "My dad is a computer programmer and my mom is a designer. All three are good working people with strong ideas for their work in social media, video\n",
      "My dad is a computer programmer and my mom is a graphic designer,\" he said. \"She's kind of like, 'Oh yeah you're going\n"
     ]
    }
   ],
   "source": [
    "generate_sentences('My dad is a computer programmer and my mom is a')"
   ]
  },
  {
   "cell_type": "code",
   "execution_count": null,
   "metadata": {},
   "outputs": [],
   "source": []
  }
 ],
 "metadata": {
  "kernelspec": {
   "display_name": "Python 3",
   "language": "python",
   "name": "python3"
  },
  "language_info": {
   "codemirror_mode": {
    "name": "ipython",
    "version": 3
   },
   "file_extension": ".py",
   "mimetype": "text/x-python",
   "name": "python",
   "nbconvert_exporter": "python",
   "pygments_lexer": "ipython3",
   "version": "3.6.8"
  }
 },
 "nbformat": 4,
 "nbformat_minor": 2
}
